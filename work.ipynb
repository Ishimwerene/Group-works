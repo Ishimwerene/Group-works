{
 "cells": [
  {
   "cell_type": "markdown",
   "metadata": {},
   "source": [
    "GROUP MEMBERS:"
   ]
  },
  {
   "cell_type": "markdown",
   "metadata": {},
   "source": [
    "1.ISHIMWE Rene 21RP09177"
   ]
  },
  {
   "cell_type": "markdown",
   "metadata": {},
   "source": [
    "2.ARERUYA Frank 21RP04953"
   ]
  },
  {
   "cell_type": "markdown",
   "metadata": {},
   "source": [
    "3.ABIJURU Kevin 21RP02865 "
   ]
  },
  {
   "cell_type": "markdown",
   "metadata": {},
   "source": [
    "1.Pizza Toppings: Write a loop that prompts the user to enter a series of pizza toppings until they enter a 'quit' value. As they enter each topping, print a message saying you’ll add that topping to their pizza. "
   ]
  },
  {
   "cell_type": "code",
   "execution_count": 1,
   "metadata": {},
   "outputs": [
    {
     "name": "stdout",
     "output_type": "stream",
     "text": [
      "Welcome to the Pizza Toppings program!\n",
      "Enter the toppings you want on your pizza. Type 'quit' when you're done.\n",
      "Adding 2 to your pizza.\n",
      "Your pizza is ready!\n"
     ]
    }
   ],
   "source": [
    "print(\"Welcome to the Pizza Toppings program!\")\n",
    "print(\"Enter the toppings you want on your pizza. Type 'quit' when you're done.\")\n",
    "\n",
    "topping = \"\"\n",
    "while topping != \"quit\":\n",
    "    topping = input(\"Enter a topping: \")\n",
    "    if topping != \"quit\":\n",
    "        print(\"Adding\", topping, \"to your pizza.\")\n",
    "print(\"Your pizza is ready!\")\n"
   ]
  },
  {
   "cell_type": "markdown",
   "metadata": {},
   "source": [
    "2.\tMovie Tickets: A movie theatre charges different ticket prices depending on a person’s age. If a person is under the age of 3, the ticket is free; if they are between 3 and 12, the ticket is $10; and if they are over age 12, the ticket is $15. Write a loop in which you ask users their age, and then tell them the cost of their movie ticket."
   ]
  },
  {
   "cell_type": "code",
   "execution_count": 2,
   "metadata": {},
   "outputs": [
    {
     "name": "stdout",
     "output_type": "stream",
     "text": [
      "Welcome to the Movie Tickets program!\n",
      "Your ticket costs $10.\n",
      "Please enter a valid age (a number) or type 'quit' to exit.\n",
      "Exiting the program.\n"
     ]
    }
   ],
   "source": [
    "print(\"Welcome to the Movie Tickets program!\")\n",
    "\n",
    "while True:\n",
    "    age_str = input(\"Please enter your age (or type 'quit' to exit): \")\n",
    "\n",
    "    if age_str.lower() == 'quit':\n",
    "        print(\"Exiting the program.\")\n",
    "        break\n",
    "\n",
    "    try:\n",
    "        age = int(age_str)\n",
    "        if age < 3:\n",
    "            print(\"Your ticket is free!\")\n",
    "        elif 3 <= age <= 12:\n",
    "            print(\"Your ticket costs $10.\")\n",
    "        else:\n",
    "            print(\"Your ticket costs $15.\")\n",
    "    except ValueError:\n",
    "        print(\"Please enter a valid age (a number) or type 'quit' to exit.\")\n"
   ]
  },
  {
   "cell_type": "markdown",
   "metadata": {},
   "source": [
    "3.\tThree Exits: Write different versions of either Exercise 1 or 2 that do each of the following at least once:"
   ]
  },
  {
   "cell_type": "markdown",
   "metadata": {},
   "source": [
    "\tUse a conditional test in the while statement to stop the loop."
   ]
  },
  {
   "cell_type": "code",
   "execution_count": null,
   "metadata": {},
   "outputs": [],
   "source": [
    "print(\"Welcome to the Pizza Toppings program!\")\n",
    "print(\"Enter the toppings you want on your pizza. Type 'quit' when you're done.\")\n",
    "\n",
    "topping = \"\"\n",
    "while topping != \"quit\":\n",
    "    topping = input(\"Enter a topping: \")\n",
    "    if topping != \"quit\":\n",
    "        print(\"Adding\", topping, \"to your pizza.\")\n",
    "print(\"Your pizza is ready!\")\n"
   ]
  },
  {
   "cell_type": "markdown",
   "metadata": {},
   "source": [
    "\t Use an active variable to control how long the loop runs."
   ]
  },
  {
   "cell_type": "code",
   "execution_count": null,
   "metadata": {},
   "outputs": [],
   "source": [
    "print(\"Welcome to the Pizza Toppings program!\")\n",
    "print(\"Enter the toppings you want on your pizza. Type 'quit' when you're done.\")\n",
    "\n",
    "active = True\n",
    "while active:\n",
    "    topping = input(\"Enter a topping: \")\n",
    "    if topping != \"quit\":\n",
    "        print(\"Adding\", topping, \"to your pizza.\")\n",
    "    else:\n",
    "        active = False\n",
    "print(\"Your pizza is ready!\")\n"
   ]
  },
  {
   "cell_type": "markdown",
   "metadata": {},
   "source": [
    "\tUse a break statement to exit the loop when the user enters a 'quit' value."
   ]
  },
  {
   "cell_type": "code",
   "execution_count": 1,
   "metadata": {},
   "outputs": [
    {
     "name": "stdout",
     "output_type": "stream",
     "text": [
      "Welcome to the Pizza Toppings program!\n",
      "Enter the toppings you want on your pizza. Type 'quit' when you're done.\n",
      "Adding q to your pizza.\n",
      "Your pizza is ready!\n"
     ]
    }
   ],
   "source": [
    "print(\"Welcome to the Pizza Toppings program!\")\n",
    "print(\"Enter the toppings you want on your pizza. Type 'quit' when you're done.\")\n",
    "\n",
    "while True:\n",
    "    topping = input(\"Enter a topping: \")\n",
    "    if topping == \"quit\":\n",
    "        break\n",
    "    print(\"Adding\", topping, \"to your pizza.\")\n",
    "print(\"Your pizza is ready!\")\n"
   ]
  },
  {
   "cell_type": "markdown",
   "metadata": {},
   "source": [
    "4.\tInfinity: Write a loop that never ends, and run it. (To end the loop, press CTRL-C or close the window displaying the output.) "
   ]
  },
  {
   "cell_type": "code",
   "execution_count": null,
   "metadata": {},
   "outputs": [],
   "source": [
    "while True:\n",
    "    print(\"This loop will run indefinitely!\")\n"
   ]
  },
  {
   "cell_type": "markdown",
   "metadata": {},
   "source": [
    "5.\tMake a list called sandwich_orders and fill it with the names of various sandwiches. Then make an empty list called finished_sandwiches. Loop through the list of sandwich orders and print a message for each order, such as I made your tuna sandwich. As each sandwich is made, move it to the list of finished sandwiches. After all the sandwiches have been made, print a message listing each sandwich that was made."
   ]
  },
  {
   "cell_type": "code",
   "execution_count": 4,
   "metadata": {},
   "outputs": [
    {
     "name": "stdout",
     "output_type": "stream",
     "text": [
      "I made your Amandazi sandwich.\n",
      "I made your Keke sandwich.\n",
      "I made your Buga sandwich.\n",
      "I made your Isambusa sandwich.\n",
      "\n",
      "List of finished sandwiches:\n",
      "Amandazi\n",
      "Keke\n",
      "Buga\n",
      "Isambusa\n"
     ]
    }
   ],
   "source": [
    "# Make a list called sandwich_orders and fill it with the names of various sandwiches\n",
    "sandwich_orders = [\"Amandazi\", \"Keke\", \"Buga\", \"Isambusa\"]\n",
    "\n",
    "# Make an empty list called finished_sandwiches\n",
    "finished_sandwiches = []\n",
    "\n",
    "# Loop through the list of sandwich orders\n",
    "while sandwich_orders:\n",
    "    # Take the first sandwich order from the list\n",
    "    current_sandwich = sandwich_orders.pop(0)\n",
    "    \n",
    "    # Print a message for each order\n",
    "    print(\"I made your\", current_sandwich, \"sandwich.\")\n",
    "    \n",
    "    # Move the made sandwich to the list of finished sandwiches\n",
    "    finished_sandwiches.append(current_sandwich)\n",
    "\n",
    "# Print a message listing each sandwich that was made\n",
    "print(\"\\nList of finished sandwiches:\")\n",
    "for sandwich in finished_sandwiches:\n",
    "    print(sandwich)\n"
   ]
  }
 ],
 "metadata": {
  "kernelspec": {
   "display_name": "Python 3",
   "language": "python",
   "name": "python3"
  },
  "language_info": {
   "codemirror_mode": {
    "name": "ipython",
    "version": 3
   },
   "file_extension": ".py",
   "mimetype": "text/x-python",
   "name": "python",
   "nbconvert_exporter": "python",
   "pygments_lexer": "ipython3",
   "version": "3.12.0"
  }
 },
 "nbformat": 4,
 "nbformat_minor": 2
}
